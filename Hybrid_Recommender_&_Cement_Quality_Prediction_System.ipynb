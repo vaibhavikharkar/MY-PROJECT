{
  "nbformat": 4,
  "nbformat_minor": 0,
  "metadata": {
    "colab": {
      "provenance": [],
      "authorship_tag": "ABX9TyOyYKYEt9Zufzp7E0wiMtYd",
      "include_colab_link": true
    },
    "kernelspec": {
      "name": "python3",
      "display_name": "Python 3"
    },
    "language_info": {
      "name": "python"
    }
  },
  "cells": [
    {
      "cell_type": "markdown",
      "metadata": {
        "id": "view-in-github",
        "colab_type": "text"
      },
      "source": [
        "<a href=\"https://colab.research.google.com/github/vaibhavikharkar/MY-PROJECT/blob/main/Hybrid_Recommender_%26_Cement_Quality_Prediction_System.ipynb\" target=\"_parent\"><img src=\"https://colab.research.google.com/assets/colab-badge.svg\" alt=\"Open In Colab\"/></a>"
      ]
    },
    {
      "cell_type": "code",
      "execution_count": 2,
      "metadata": {
        "colab": {
          "base_uri": "https://localhost:8080/"
        },
        "id": "ZTbdUsdbp-lR",
        "outputId": "7a840b26-d66e-4a4f-fd3a-4907c5fa1b88"
      },
      "outputs": [
        {
          "output_type": "stream",
          "name": "stdout",
          "text": [
            "Book Similarity Matrix:\n",
            " UserID         1         2         3\n",
            "UserID                              \n",
            "1       1.000000  0.857493  0.401754\n",
            "2       0.857493  1.000000  0.000000\n",
            "3       0.401754  0.000000  1.000000\n",
            "Cement Strength Prediction MSE: 33.639999999999965\n"
          ]
        }
      ],
      "source": [
        "import sqlite3\n",
        "import pandas as pd\n",
        "import numpy as np\n",
        "import matplotlib.pyplot as plt\n",
        "import seaborn as sns\n",
        "from sklearn.model_selection import train_test_split\n",
        "from sklearn.linear_model import LogisticRegression, LinearRegression\n",
        "from sklearn.tree import DecisionTreeClassifier\n",
        "from sklearn.metrics import accuracy_score, classification_report, mean_squared_error\n",
        "from sklearn.feature_extraction.text import TfidfVectorizer\n",
        "from sklearn.metrics.pairwise import cosine_similarity\n",
        "\n",
        "# Connect to SQLite database\n",
        "conn = sqlite3.connect(\"hybrid_system.db\")\n",
        "cursor = conn.cursor()\n",
        "\n",
        "# Create tables\n",
        "cursor.executescript('''\n",
        "    CREATE TABLE IF NOT EXISTS books (\n",
        "        BookID INTEGER PRIMARY KEY,\n",
        "        Title TEXT,\n",
        "        Genre TEXT,\n",
        "        Popularity INTEGER\n",
        "    );\n",
        "\n",
        "    CREATE TABLE IF NOT EXISTS user_ratings (\n",
        "        UserID INTEGER,\n",
        "        BookID INTEGER,\n",
        "        Rating INTEGER,\n",
        "        FOREIGN KEY(BookID) REFERENCES books(BookID)\n",
        "    );\n",
        "\n",
        "    CREATE TABLE IF NOT EXISTS cement_data (\n",
        "        CementID INTEGER PRIMARY KEY,\n",
        "        CementComposition TEXT,\n",
        "        Strength REAL\n",
        "    );\n",
        "''')\n",
        "conn.commit()\n",
        "\n",
        "# Sample data insertion\n",
        "cursor.executescript('''\n",
        "    INSERT INTO books (BookID, Title, Genre, Popularity)\n",
        "    VALUES (1, 'Python Programming', 'Education', 500),\n",
        "           (2, 'Machine Learning Basics', 'Technology', 400),\n",
        "           (3, 'Data Science Handbook', 'Science', 350);\n",
        "\n",
        "    INSERT INTO user_ratings (UserID, BookID, Rating)\n",
        "    VALUES (1, 1, 5), (2, 1, 4), (1, 2, 3), (3, 2, 5), (3, 3, 4);\n",
        "\n",
        "    INSERT INTO cement_data (CementID, CementComposition, Strength)\n",
        "    VALUES (1, 'Limestone 50%, Clay 30%, Iron 10%, Gypsum 10%', 42.5),\n",
        "           (2, 'Limestone 60%, Clay 25%, Iron 5%, Gypsum 10%', 48.3);\n",
        "''')\n",
        "conn.commit()\n",
        "\n",
        "# Collaborative Filtering for Book Recommendation\n",
        "ratings_df = pd.read_sql_query(\"SELECT * FROM user_ratings\", conn)\n",
        "books_df = pd.read_sql_query(\"SELECT * FROM books\", conn)\n",
        "\n",
        "book_pivot = ratings_df.pivot(index='UserID', columns='BookID', values='Rating').fillna(0)\n",
        "cos_sim = cosine_similarity(book_pivot)\n",
        "\n",
        "book_sim_df = pd.DataFrame(cos_sim, index=book_pivot.index, columns=book_pivot.index)\n",
        "print(\"Book Similarity Matrix:\\n\", book_sim_df)\n",
        "\n",
        "# Predicting Cement Strength\n",
        "cement_df = pd.read_sql_query(\"SELECT * FROM cement_data\", conn)\n",
        "vectorizer = TfidfVectorizer()\n",
        "X_cement = vectorizer.fit_transform(cement_df['CementComposition'])\n",
        "y_cement = cement_df['Strength']\n",
        "\n",
        "X_train, X_test, y_train, y_test = train_test_split(X_cement, y_cement, test_size=0.2, random_state=42)\n",
        "regressor = LinearRegression()\n",
        "regressor.fit(X_train, y_train)\n",
        "y_pred = regressor.predict(X_test)\n",
        "\n",
        "print(\"Cement Strength Prediction MSE:\", mean_squared_error(y_test, y_pred))\n",
        "\n",
        "# Close connection\n",
        "conn.close()\n",
        "\n",
        "\n"
      ]
    }
  ]
}